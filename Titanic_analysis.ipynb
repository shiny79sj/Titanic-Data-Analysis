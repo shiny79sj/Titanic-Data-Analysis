{
 "cells": [
  {
   "cell_type": "markdown",
   "id": "084e4150-406b-4b4b-b039-1122573dac0e",
   "metadata": {},
   "source": [
    "# Titanic_Data_Analysis #"
   ]
  },
  {
   "cell_type": "markdown",
   "id": "20cce442-616c-4295-8c4a-43937b4ad91a",
   "metadata": {},
   "source": [
    "### Importing Library ###"
   ]
  },
  {
   "cell_type": "code",
   "execution_count": 1,
   "id": "e00f38e2-e6d3-43a0-977b-3ac1b18f0a8e",
   "metadata": {},
   "outputs": [],
   "source": [
    "import pandas as pd"
   ]
  },
  {
   "cell_type": "markdown",
   "id": "b04517bb-59e3-48e1-b89f-df0de6caf9d5",
   "metadata": {},
   "source": [
    "### Loading Data ###"
   ]
  },
  {
   "cell_type": "code",
   "execution_count": 2,
   "id": "166a1b60-5287-41e1-84dd-6066de7ce4aa",
   "metadata": {},
   "outputs": [],
   "source": [
    "data = pd.read_excel(\"Titanic DS (task1).xlsx\")"
   ]
  },
  {
   "cell_type": "code",
   "execution_count": 3,
   "id": "53ecbace-36f2-4cf5-ad53-37d9d6f8f8f7",
   "metadata": {
    "scrolled": true
   },
   "outputs": [
    {
     "data": {
      "text/html": [
       "<div>\n",
       "<style scoped>\n",
       "    .dataframe tbody tr th:only-of-type {\n",
       "        vertical-align: middle;\n",
       "    }\n",
       "\n",
       "    .dataframe tbody tr th {\n",
       "        vertical-align: top;\n",
       "    }\n",
       "\n",
       "    .dataframe thead th {\n",
       "        text-align: right;\n",
       "    }\n",
       "</style>\n",
       "<table border=\"1\" class=\"dataframe\">\n",
       "  <thead>\n",
       "    <tr style=\"text-align: right;\">\n",
       "      <th></th>\n",
       "      <th>pclass</th>\n",
       "      <th>survived</th>\n",
       "      <th>name</th>\n",
       "      <th>Unnamed: 3</th>\n",
       "      <th>sex</th>\n",
       "      <th>age</th>\n",
       "      <th>sibsp</th>\n",
       "      <th>parch</th>\n",
       "      <th>ticket</th>\n",
       "      <th>fare</th>\n",
       "      <th>embarked</th>\n",
       "    </tr>\n",
       "  </thead>\n",
       "  <tbody>\n",
       "    <tr>\n",
       "      <th>0</th>\n",
       "      <td>1</td>\n",
       "      <td>1</td>\n",
       "      <td>Allen, Miss. Elisabeth Walton</td>\n",
       "      <td>NaN</td>\n",
       "      <td>female</td>\n",
       "      <td>29.0000</td>\n",
       "      <td>0</td>\n",
       "      <td>0</td>\n",
       "      <td>24160</td>\n",
       "      <td>211.3375</td>\n",
       "      <td>S</td>\n",
       "    </tr>\n",
       "    <tr>\n",
       "      <th>1</th>\n",
       "      <td>1</td>\n",
       "      <td>1</td>\n",
       "      <td>Allison, Master. Hudson Trevor</td>\n",
       "      <td>NaN</td>\n",
       "      <td>male</td>\n",
       "      <td>0.9167</td>\n",
       "      <td>1</td>\n",
       "      <td>2</td>\n",
       "      <td>113781</td>\n",
       "      <td>151.5500</td>\n",
       "      <td>S</td>\n",
       "    </tr>\n",
       "    <tr>\n",
       "      <th>2</th>\n",
       "      <td>1</td>\n",
       "      <td>0</td>\n",
       "      <td>Allison, Miss. Helen Loraine</td>\n",
       "      <td>NaN</td>\n",
       "      <td>female</td>\n",
       "      <td>2.0000</td>\n",
       "      <td>1</td>\n",
       "      <td>2</td>\n",
       "      <td>113781</td>\n",
       "      <td>151.5500</td>\n",
       "      <td>S</td>\n",
       "    </tr>\n",
       "    <tr>\n",
       "      <th>3</th>\n",
       "      <td>1</td>\n",
       "      <td>0</td>\n",
       "      <td>Allison, Mr. Hudson Joshua Creighton</td>\n",
       "      <td>NaN</td>\n",
       "      <td>male</td>\n",
       "      <td>30.0000</td>\n",
       "      <td>1</td>\n",
       "      <td>2</td>\n",
       "      <td>113781</td>\n",
       "      <td>151.5500</td>\n",
       "      <td>S</td>\n",
       "    </tr>\n",
       "    <tr>\n",
       "      <th>4</th>\n",
       "      <td>1</td>\n",
       "      <td>0</td>\n",
       "      <td>Allison, Mrs. Hudson J C (Bessie Waldo Daniels)</td>\n",
       "      <td>NaN</td>\n",
       "      <td>female</td>\n",
       "      <td>25.0000</td>\n",
       "      <td>1</td>\n",
       "      <td>2</td>\n",
       "      <td>113781</td>\n",
       "      <td>151.5500</td>\n",
       "      <td>S</td>\n",
       "    </tr>\n",
       "  </tbody>\n",
       "</table>\n",
       "</div>"
      ],
      "text/plain": [
       "   pclass  survived                                             name  \\\n",
       "0       1         1                    Allen, Miss. Elisabeth Walton   \n",
       "1       1         1                   Allison, Master. Hudson Trevor   \n",
       "2       1         0                     Allison, Miss. Helen Loraine   \n",
       "3       1         0             Allison, Mr. Hudson Joshua Creighton   \n",
       "4       1         0  Allison, Mrs. Hudson J C (Bessie Waldo Daniels)   \n",
       "\n",
       "   Unnamed: 3     sex      age  sibsp  parch  ticket      fare embarked  \n",
       "0         NaN  female  29.0000      0      0   24160  211.3375        S  \n",
       "1         NaN    male   0.9167      1      2  113781  151.5500        S  \n",
       "2         NaN  female   2.0000      1      2  113781  151.5500        S  \n",
       "3         NaN    male  30.0000      1      2  113781  151.5500        S  \n",
       "4         NaN  female  25.0000      1      2  113781  151.5500        S  "
      ]
     },
     "execution_count": 3,
     "metadata": {},
     "output_type": "execute_result"
    }
   ],
   "source": [
    "#to display first 5 rows\n",
    "data.head()"
   ]
  },
  {
   "cell_type": "code",
   "execution_count": 4,
   "id": "e54c4f17-9c72-45d1-8426-953d08cf05cd",
   "metadata": {},
   "outputs": [
    {
     "data": {
      "text/html": [
       "<div>\n",
       "<style scoped>\n",
       "    .dataframe tbody tr th:only-of-type {\n",
       "        vertical-align: middle;\n",
       "    }\n",
       "\n",
       "    .dataframe tbody tr th {\n",
       "        vertical-align: top;\n",
       "    }\n",
       "\n",
       "    .dataframe thead th {\n",
       "        text-align: right;\n",
       "    }\n",
       "</style>\n",
       "<table border=\"1\" class=\"dataframe\">\n",
       "  <thead>\n",
       "    <tr style=\"text-align: right;\">\n",
       "      <th></th>\n",
       "      <th>pclass</th>\n",
       "      <th>survived</th>\n",
       "      <th>name</th>\n",
       "      <th>Unnamed: 3</th>\n",
       "      <th>sex</th>\n",
       "      <th>age</th>\n",
       "      <th>sibsp</th>\n",
       "      <th>parch</th>\n",
       "      <th>ticket</th>\n",
       "      <th>fare</th>\n",
       "      <th>embarked</th>\n",
       "    </tr>\n",
       "  </thead>\n",
       "  <tbody>\n",
       "    <tr>\n",
       "      <th>1304</th>\n",
       "      <td>3</td>\n",
       "      <td>0</td>\n",
       "      <td>Zabour, Miss. Hileni</td>\n",
       "      <td>NaN</td>\n",
       "      <td>female</td>\n",
       "      <td>14.5</td>\n",
       "      <td>1</td>\n",
       "      <td>0</td>\n",
       "      <td>2665</td>\n",
       "      <td>14.4542</td>\n",
       "      <td>C</td>\n",
       "    </tr>\n",
       "    <tr>\n",
       "      <th>1305</th>\n",
       "      <td>3</td>\n",
       "      <td>0</td>\n",
       "      <td>Zabour, Miss. Thamine</td>\n",
       "      <td>NaN</td>\n",
       "      <td>female</td>\n",
       "      <td>NaN</td>\n",
       "      <td>1</td>\n",
       "      <td>0</td>\n",
       "      <td>2665</td>\n",
       "      <td>14.4542</td>\n",
       "      <td>C</td>\n",
       "    </tr>\n",
       "    <tr>\n",
       "      <th>1306</th>\n",
       "      <td>3</td>\n",
       "      <td>0</td>\n",
       "      <td>Zakarian, Mr. Mapriededer</td>\n",
       "      <td>NaN</td>\n",
       "      <td>male</td>\n",
       "      <td>26.5</td>\n",
       "      <td>0</td>\n",
       "      <td>0</td>\n",
       "      <td>2656</td>\n",
       "      <td>7.2250</td>\n",
       "      <td>C</td>\n",
       "    </tr>\n",
       "    <tr>\n",
       "      <th>1307</th>\n",
       "      <td>3</td>\n",
       "      <td>0</td>\n",
       "      <td>Zakarian, Mr. Ortin</td>\n",
       "      <td>NaN</td>\n",
       "      <td>male</td>\n",
       "      <td>27.0</td>\n",
       "      <td>0</td>\n",
       "      <td>0</td>\n",
       "      <td>2670</td>\n",
       "      <td>7.2250</td>\n",
       "      <td>C</td>\n",
       "    </tr>\n",
       "    <tr>\n",
       "      <th>1308</th>\n",
       "      <td>3</td>\n",
       "      <td>0</td>\n",
       "      <td>Zimmerman, Mr. Leo</td>\n",
       "      <td>NaN</td>\n",
       "      <td>male</td>\n",
       "      <td>29.0</td>\n",
       "      <td>0</td>\n",
       "      <td>0</td>\n",
       "      <td>315082</td>\n",
       "      <td>7.8750</td>\n",
       "      <td>S</td>\n",
       "    </tr>\n",
       "  </tbody>\n",
       "</table>\n",
       "</div>"
      ],
      "text/plain": [
       "      pclass  survived                       name  Unnamed: 3     sex   age  \\\n",
       "1304       3         0       Zabour, Miss. Hileni         NaN  female  14.5   \n",
       "1305       3         0      Zabour, Miss. Thamine         NaN  female   NaN   \n",
       "1306       3         0  Zakarian, Mr. Mapriededer         NaN    male  26.5   \n",
       "1307       3         0        Zakarian, Mr. Ortin         NaN    male  27.0   \n",
       "1308       3         0         Zimmerman, Mr. Leo         NaN    male  29.0   \n",
       "\n",
       "      sibsp  parch  ticket     fare embarked  \n",
       "1304      1      0    2665  14.4542        C  \n",
       "1305      1      0    2665  14.4542        C  \n",
       "1306      0      0    2656   7.2250        C  \n",
       "1307      0      0    2670   7.2250        C  \n",
       "1308      0      0  315082   7.8750        S  "
      ]
     },
     "execution_count": 4,
     "metadata": {},
     "output_type": "execute_result"
    }
   ],
   "source": [
    "#to display last 5 rows\n",
    "data.tail()"
   ]
  },
  {
   "cell_type": "code",
   "execution_count": 5,
   "id": "33cf5a7c-4135-4bcb-bd4e-15cfba703476",
   "metadata": {},
   "outputs": [
    {
     "data": {
      "text/plain": [
       "(1309, 11)"
      ]
     },
     "execution_count": 5,
     "metadata": {},
     "output_type": "execute_result"
    }
   ],
   "source": [
    "# to view number of rows and columns\n",
    "data.shape"
   ]
  },
  {
   "cell_type": "markdown",
   "id": "075a6e8e-071c-4735-84fa-5fb14a338851",
   "metadata": {},
   "source": [
    "### checking duplicates ###"
   ]
  },
  {
   "cell_type": "code",
   "execution_count": 6,
   "id": "6ef9de60-e398-4310-904a-59bcf32c38e1",
   "metadata": {},
   "outputs": [
    {
     "name": "stdout",
     "output_type": "stream",
     "text": [
      "0\n"
     ]
    }
   ],
   "source": [
    "duplicates = data.duplicated()\n",
    "print(duplicates.sum())"
   ]
  },
  {
   "cell_type": "code",
   "execution_count": 7,
   "id": "0ddbc721-148f-4b45-8451-eb6b4e2cb7a8",
   "metadata": {},
   "outputs": [
    {
     "data": {
      "text/plain": [
       "Index(['pclass', 'survived', 'name', 'Unnamed: 3', 'sex', 'age', 'sibsp',\n",
       "       'parch', 'ticket', 'fare', 'embarked'],\n",
       "      dtype='object')"
      ]
     },
     "execution_count": 7,
     "metadata": {},
     "output_type": "execute_result"
    }
   ],
   "source": [
    "#to view column names\n",
    "data.columns"
   ]
  },
  {
   "cell_type": "markdown",
   "id": "fd82475a-22b9-4258-9898-bf1c44c5a0fc",
   "metadata": {},
   "source": [
    "### Feature Description ###"
   ]
  },
  {
   "cell_type": "raw",
   "id": "d53530f9-10a4-4ce0-8ab6-e3f21443138a",
   "metadata": {},
   "source": [
    "pclass: represents the passenger Class(1 = First class, 2 = Second class, 3 = Third class) \n",
    "survived: survival state of the passenger(0 = Did not survive, 1 = Survived)\n",
    "name: Name of the passenger\n",
    "sex:Age of the passenger\n",
    "sib sp: Number of siblings/spouses aboard the Titanic\n",
    "parch: represents parents or childeren the passenger had\n",
    "ticket: represents the ticket number\n",
    "fare: represents ticket price\n",
    "embarked: represents the port where the passenger boarded(C = Cherbourg, Q = Queenstown, S = Southampton)"
   ]
  },
  {
   "cell_type": "code",
   "execution_count": 8,
   "id": "7404190c-43d0-471c-bada-89bb7a075ae4",
   "metadata": {},
   "outputs": [],
   "source": [
    "#removing unwanted columns\n",
    "data = data.drop(['Unnamed: 3'], axis = 1)"
   ]
  },
  {
   "cell_type": "code",
   "execution_count": 9,
   "id": "e7b3ec70-2348-4701-aa53-bc8f829ddd80",
   "metadata": {},
   "outputs": [
    {
     "data": {
      "text/html": [
       "<div>\n",
       "<style scoped>\n",
       "    .dataframe tbody tr th:only-of-type {\n",
       "        vertical-align: middle;\n",
       "    }\n",
       "\n",
       "    .dataframe tbody tr th {\n",
       "        vertical-align: top;\n",
       "    }\n",
       "\n",
       "    .dataframe thead th {\n",
       "        text-align: right;\n",
       "    }\n",
       "</style>\n",
       "<table border=\"1\" class=\"dataframe\">\n",
       "  <thead>\n",
       "    <tr style=\"text-align: right;\">\n",
       "      <th></th>\n",
       "      <th>pclass</th>\n",
       "      <th>survived</th>\n",
       "      <th>name</th>\n",
       "      <th>sex</th>\n",
       "      <th>age</th>\n",
       "      <th>sibsp</th>\n",
       "      <th>parch</th>\n",
       "      <th>ticket</th>\n",
       "      <th>fare</th>\n",
       "      <th>embarked</th>\n",
       "    </tr>\n",
       "  </thead>\n",
       "  <tbody>\n",
       "    <tr>\n",
       "      <th>0</th>\n",
       "      <td>1</td>\n",
       "      <td>1</td>\n",
       "      <td>Allen, Miss. Elisabeth Walton</td>\n",
       "      <td>female</td>\n",
       "      <td>29.0000</td>\n",
       "      <td>0</td>\n",
       "      <td>0</td>\n",
       "      <td>24160</td>\n",
       "      <td>211.3375</td>\n",
       "      <td>S</td>\n",
       "    </tr>\n",
       "    <tr>\n",
       "      <th>1</th>\n",
       "      <td>1</td>\n",
       "      <td>1</td>\n",
       "      <td>Allison, Master. Hudson Trevor</td>\n",
       "      <td>male</td>\n",
       "      <td>0.9167</td>\n",
       "      <td>1</td>\n",
       "      <td>2</td>\n",
       "      <td>113781</td>\n",
       "      <td>151.5500</td>\n",
       "      <td>S</td>\n",
       "    </tr>\n",
       "    <tr>\n",
       "      <th>2</th>\n",
       "      <td>1</td>\n",
       "      <td>0</td>\n",
       "      <td>Allison, Miss. Helen Loraine</td>\n",
       "      <td>female</td>\n",
       "      <td>2.0000</td>\n",
       "      <td>1</td>\n",
       "      <td>2</td>\n",
       "      <td>113781</td>\n",
       "      <td>151.5500</td>\n",
       "      <td>S</td>\n",
       "    </tr>\n",
       "    <tr>\n",
       "      <th>3</th>\n",
       "      <td>1</td>\n",
       "      <td>0</td>\n",
       "      <td>Allison, Mr. Hudson Joshua Creighton</td>\n",
       "      <td>male</td>\n",
       "      <td>30.0000</td>\n",
       "      <td>1</td>\n",
       "      <td>2</td>\n",
       "      <td>113781</td>\n",
       "      <td>151.5500</td>\n",
       "      <td>S</td>\n",
       "    </tr>\n",
       "    <tr>\n",
       "      <th>4</th>\n",
       "      <td>1</td>\n",
       "      <td>0</td>\n",
       "      <td>Allison, Mrs. Hudson J C (Bessie Waldo Daniels)</td>\n",
       "      <td>female</td>\n",
       "      <td>25.0000</td>\n",
       "      <td>1</td>\n",
       "      <td>2</td>\n",
       "      <td>113781</td>\n",
       "      <td>151.5500</td>\n",
       "      <td>S</td>\n",
       "    </tr>\n",
       "  </tbody>\n",
       "</table>\n",
       "</div>"
      ],
      "text/plain": [
       "   pclass  survived                                             name     sex  \\\n",
       "0       1         1                    Allen, Miss. Elisabeth Walton  female   \n",
       "1       1         1                   Allison, Master. Hudson Trevor    male   \n",
       "2       1         0                     Allison, Miss. Helen Loraine  female   \n",
       "3       1         0             Allison, Mr. Hudson Joshua Creighton    male   \n",
       "4       1         0  Allison, Mrs. Hudson J C (Bessie Waldo Daniels)  female   \n",
       "\n",
       "       age  sibsp  parch  ticket      fare embarked  \n",
       "0  29.0000      0      0   24160  211.3375        S  \n",
       "1   0.9167      1      2  113781  151.5500        S  \n",
       "2   2.0000      1      2  113781  151.5500        S  \n",
       "3  30.0000      1      2  113781  151.5500        S  \n",
       "4  25.0000      1      2  113781  151.5500        S  "
      ]
     },
     "execution_count": 9,
     "metadata": {},
     "output_type": "execute_result"
    }
   ],
   "source": [
    "data.head()"
   ]
  },
  {
   "cell_type": "markdown",
   "id": "fe7f75cc-2cf7-44e4-a0a1-c9ff43b32041",
   "metadata": {},
   "source": [
    "### checking the data type of Features ###"
   ]
  },
  {
   "cell_type": "code",
   "execution_count": 10,
   "id": "c74bafaf-8986-4a75-87a2-fdca43798d78",
   "metadata": {},
   "outputs": [
    {
     "data": {
      "text/plain": [
       "pclass        int64\n",
       "survived      int64\n",
       "name         object\n",
       "sex          object\n",
       "age         float64\n",
       "sibsp         int64\n",
       "parch         int64\n",
       "ticket       object\n",
       "fare        float64\n",
       "embarked     object\n",
       "dtype: object"
      ]
     },
     "execution_count": 10,
     "metadata": {},
     "output_type": "execute_result"
    }
   ],
   "source": [
    "data.dtypes"
   ]
  },
  {
   "cell_type": "code",
   "execution_count": null,
   "id": "3c7922a4-1e55-4958-80e9-a0d9d8a11ee7",
   "metadata": {},
   "outputs": [],
   "source": []
  },
  {
   "cell_type": "markdown",
   "id": "4445a5e9-de91-4ca0-a772-f905337718d3",
   "metadata": {},
   "source": [
    "### Statistics of the Titanic Dataset ###"
   ]
  },
  {
   "cell_type": "code",
   "execution_count": 11,
   "id": "65f17583-a281-4a36-987e-d5acea6a4ca8",
   "metadata": {},
   "outputs": [
    {
     "data": {
      "text/html": [
       "<div>\n",
       "<style scoped>\n",
       "    .dataframe tbody tr th:only-of-type {\n",
       "        vertical-align: middle;\n",
       "    }\n",
       "\n",
       "    .dataframe tbody tr th {\n",
       "        vertical-align: top;\n",
       "    }\n",
       "\n",
       "    .dataframe thead th {\n",
       "        text-align: right;\n",
       "    }\n",
       "</style>\n",
       "<table border=\"1\" class=\"dataframe\">\n",
       "  <thead>\n",
       "    <tr style=\"text-align: right;\">\n",
       "      <th></th>\n",
       "      <th>pclass</th>\n",
       "      <th>survived</th>\n",
       "      <th>age</th>\n",
       "      <th>sibsp</th>\n",
       "      <th>parch</th>\n",
       "      <th>fare</th>\n",
       "    </tr>\n",
       "  </thead>\n",
       "  <tbody>\n",
       "    <tr>\n",
       "      <th>count</th>\n",
       "      <td>1309.000000</td>\n",
       "      <td>1309.000000</td>\n",
       "      <td>1046.000000</td>\n",
       "      <td>1309.000000</td>\n",
       "      <td>1309.000000</td>\n",
       "      <td>1308.000000</td>\n",
       "    </tr>\n",
       "    <tr>\n",
       "      <th>mean</th>\n",
       "      <td>2.294882</td>\n",
       "      <td>0.381971</td>\n",
       "      <td>29.881135</td>\n",
       "      <td>0.498854</td>\n",
       "      <td>0.385027</td>\n",
       "      <td>33.295479</td>\n",
       "    </tr>\n",
       "    <tr>\n",
       "      <th>std</th>\n",
       "      <td>0.837836</td>\n",
       "      <td>0.486055</td>\n",
       "      <td>14.413500</td>\n",
       "      <td>1.041658</td>\n",
       "      <td>0.865560</td>\n",
       "      <td>51.758668</td>\n",
       "    </tr>\n",
       "    <tr>\n",
       "      <th>min</th>\n",
       "      <td>1.000000</td>\n",
       "      <td>0.000000</td>\n",
       "      <td>0.166700</td>\n",
       "      <td>0.000000</td>\n",
       "      <td>0.000000</td>\n",
       "      <td>0.000000</td>\n",
       "    </tr>\n",
       "    <tr>\n",
       "      <th>25%</th>\n",
       "      <td>2.000000</td>\n",
       "      <td>0.000000</td>\n",
       "      <td>21.000000</td>\n",
       "      <td>0.000000</td>\n",
       "      <td>0.000000</td>\n",
       "      <td>7.895800</td>\n",
       "    </tr>\n",
       "    <tr>\n",
       "      <th>50%</th>\n",
       "      <td>3.000000</td>\n",
       "      <td>0.000000</td>\n",
       "      <td>28.000000</td>\n",
       "      <td>0.000000</td>\n",
       "      <td>0.000000</td>\n",
       "      <td>14.454200</td>\n",
       "    </tr>\n",
       "    <tr>\n",
       "      <th>75%</th>\n",
       "      <td>3.000000</td>\n",
       "      <td>1.000000</td>\n",
       "      <td>39.000000</td>\n",
       "      <td>1.000000</td>\n",
       "      <td>0.000000</td>\n",
       "      <td>31.275000</td>\n",
       "    </tr>\n",
       "    <tr>\n",
       "      <th>max</th>\n",
       "      <td>3.000000</td>\n",
       "      <td>1.000000</td>\n",
       "      <td>80.000000</td>\n",
       "      <td>8.000000</td>\n",
       "      <td>9.000000</td>\n",
       "      <td>512.329200</td>\n",
       "    </tr>\n",
       "  </tbody>\n",
       "</table>\n",
       "</div>"
      ],
      "text/plain": [
       "            pclass     survived          age        sibsp        parch  \\\n",
       "count  1309.000000  1309.000000  1046.000000  1309.000000  1309.000000   \n",
       "mean      2.294882     0.381971    29.881135     0.498854     0.385027   \n",
       "std       0.837836     0.486055    14.413500     1.041658     0.865560   \n",
       "min       1.000000     0.000000     0.166700     0.000000     0.000000   \n",
       "25%       2.000000     0.000000    21.000000     0.000000     0.000000   \n",
       "50%       3.000000     0.000000    28.000000     0.000000     0.000000   \n",
       "75%       3.000000     1.000000    39.000000     1.000000     0.000000   \n",
       "max       3.000000     1.000000    80.000000     8.000000     9.000000   \n",
       "\n",
       "              fare  \n",
       "count  1308.000000  \n",
       "mean     33.295479  \n",
       "std      51.758668  \n",
       "min       0.000000  \n",
       "25%       7.895800  \n",
       "50%      14.454200  \n",
       "75%      31.275000  \n",
       "max     512.329200  "
      ]
     },
     "execution_count": 11,
     "metadata": {},
     "output_type": "execute_result"
    }
   ],
   "source": [
    "data.describe()"
   ]
  },
  {
   "cell_type": "markdown",
   "id": "fe09a7f9-4717-4322-b600-abd69e09ac64",
   "metadata": {},
   "source": [
    "### checking null values ###"
   ]
  },
  {
   "cell_type": "code",
   "execution_count": 12,
   "id": "da012e12-4406-4ad4-9d0b-9664c726c16c",
   "metadata": {},
   "outputs": [
    {
     "data": {
      "text/plain": [
       "pclass        0\n",
       "survived      0\n",
       "name          0\n",
       "sex           0\n",
       "age         263\n",
       "sibsp         0\n",
       "parch         0\n",
       "ticket        0\n",
       "fare          1\n",
       "embarked      2\n",
       "dtype: int64"
      ]
     },
     "execution_count": 12,
     "metadata": {},
     "output_type": "execute_result"
    }
   ],
   "source": [
    "data.isnull().sum()"
   ]
  },
  {
   "cell_type": "raw",
   "id": "470f27ef-e6fb-484d-b72a-9a2cdd41987d",
   "metadata": {},
   "source": [
    "There is 263 missing values in \"age\" column\n",
    "1 missing value in \"fare column\"\n",
    "2 missing value in \"embarked column\""
   ]
  },
  {
   "cell_type": "markdown",
   "id": "fe3a821d-ab47-4077-b47c-61bbe0a09db0",
   "metadata": {},
   "source": [
    "### DataCleaning ###"
   ]
  },
  {
   "cell_type": "markdown",
   "id": "525fced0-7d78-4ba1-93de-b53aaecc36d1",
   "metadata": {},
   "source": [
    "#### Handling Missing values ####"
   ]
  },
  {
   "cell_type": "raw",
   "id": "d293aa2e-adfb-4f40-ba6d-1a4969762ea2",
   "metadata": {},
   "source": [
    "to replace missing values in \"age\" column ....applying mean/median/mode imputation method is not a correct approach\n",
    "so i need to group all the passengers in 4 categories Mr, Mrs, Miss, Master\n",
    "Mr: Used for men, regardless of marital status.\n",
    "Mrs: Used for married women.\n",
    "Miss: Used for unmarried women.\n",
    "Master: Used for boys and young men."
   ]
  },
  {
   "cell_type": "code",
   "execution_count": 13,
   "id": "f582e1ea-b0c1-4350-b74a-9d9bfc9c96a0",
   "metadata": {},
   "outputs": [
    {
     "data": {
      "text/plain": [
       "name\n",
       "Connolly, Miss. Kate             2\n",
       "Kelly, Mr. James                 2\n",
       "Allen, Miss. Elisabeth Walton    1\n",
       "Ilmakangas, Miss. Ida Livija     1\n",
       "Ilieff, Mr. Ylio                 1\n",
       "                                ..\n",
       "Hart, Miss. Eva Miriam           1\n",
       "Harris, Mr. Walter               1\n",
       "Harris, Mr. George               1\n",
       "Harper, Rev. John                1\n",
       "Zimmerman, Mr. Leo               1\n",
       "Name: count, Length: 1307, dtype: int64"
      ]
     },
     "execution_count": 13,
     "metadata": {},
     "output_type": "execute_result"
    }
   ],
   "source": [
    "data[\"name\"].value_counts()"
   ]
  },
  {
   "cell_type": "code",
   "execution_count": 14,
   "id": "2f72e555-4ec5-4cf2-8b71-4c27350d1609",
   "metadata": {},
   "outputs": [
    {
     "data": {
      "text/plain": [
       "'Allen, Miss. Elisabeth Walton'"
      ]
     },
     "execution_count": 14,
     "metadata": {},
     "output_type": "execute_result"
    }
   ],
   "source": [
    "data['name'][0]"
   ]
  },
  {
   "cell_type": "code",
   "execution_count": 15,
   "id": "06579d4a-8b89-4d18-989b-022ec1768a67",
   "metadata": {},
   "outputs": [
    {
     "name": "stdout",
     "output_type": "stream",
     "text": [
      "['Allen', ' Miss. Elisabeth Walton']\n"
     ]
    }
   ],
   "source": [
    "# Split the 'name' column to extract the part after the comma\n",
    "data['name_split'] = data['name'].apply(lambda x: x.split(','))\n",
    "print(data['name_split'][0])"
   ]
  },
  {
   "cell_type": "code",
   "execution_count": 16,
   "id": "83fec3c9-f424-4f2c-b024-29be49b03c5f",
   "metadata": {},
   "outputs": [
    {
     "name": "stdout",
     "output_type": "stream",
     "text": [
      " Miss. Elisabeth Walton\n"
     ]
    }
   ],
   "source": [
    "data['name_split'] = data['name'].apply(lambda x: x.split(',')[1])\n",
    "print(data['name_split'][0])"
   ]
  },
  {
   "cell_type": "code",
   "execution_count": 17,
   "id": "0d8404e7-8fd7-458c-b1b5-dbe972808c4e",
   "metadata": {},
   "outputs": [
    {
     "data": {
      "text/plain": [
       "'Miss'"
      ]
     },
     "execution_count": 17,
     "metadata": {},
     "output_type": "execute_result"
    }
   ],
   "source": [
    "# Split the extracted part to get the courtesy title and remove any leading/trailing spaces\n",
    "data['courtesy_title'] = data['name_split'].apply(lambda x: x.split('.')[0].strip())\n",
    "data['courtesy_title'][0]"
   ]
  },
  {
   "cell_type": "code",
   "execution_count": 18,
   "id": "4435807d-3465-4946-b6c1-37014978f0ab",
   "metadata": {},
   "outputs": [
    {
     "data": {
      "text/plain": [
       "courtesy_title\n",
       "Mr              757\n",
       "Miss            260\n",
       "Mrs             197\n",
       "Master           61\n",
       "Rev               8\n",
       "Dr                8\n",
       "Col               4\n",
       "Mlle              2\n",
       "Ms                2\n",
       "Major             2\n",
       "Capt              1\n",
       "Sir               1\n",
       "Dona              1\n",
       "Jonkheer          1\n",
       "the Countess      1\n",
       "Don               1\n",
       "Mme               1\n",
       "Lady              1\n",
       "Name: count, dtype: int64"
      ]
     },
     "execution_count": 18,
     "metadata": {},
     "output_type": "execute_result"
    }
   ],
   "source": [
    "data['courtesy_title'].value_counts()"
   ]
  },
  {
   "cell_type": "markdown",
   "id": "a37222d5-aac2-4b0b-9764-9aa98fd7b96b",
   "metadata": {},
   "source": [
    "#### courtesy title description ####"
   ]
  },
  {
   "cell_type": "raw",
   "id": "606e1136-2bef-4d56-991e-bb90a567d754",
   "metadata": {},
   "source": [
    "Mr: Used for men, regardless of marital status.\n",
    "Mrs: Used for married women.\n",
    "Miss: Used for unmarried women.\n",
    "Master: Used for boys and young men.\n",
    "Dr: Used for individuals with a doctorate.\n",
    "Rev: Used for reverends or ministers.\n",
    "Col: Used for colonels.\n",
    "Major: Used for majors.\n",
    "Capt: Used for captains.\n",
    "Mme: Used for married women (French equivalent of Mrs).\n",
    "Mlle: Used for unmarried women (French equivalent of Miss).\n",
    "Ms: Used for women, regardless of marital status.\n",
    "Lady: Used for women of noble birth or rank.\n",
    "Sir: Used for men of noble birth or rank.\n",
    "Don: Used for men, primarily in Spanish-speaking countries.\n",
    "Dona: Used for women, primarily in Spanish-speaking countries.\n",
    "Countess: Used for women with the rank of countess.\n",
    "Jonkheer: Used for men of noble birth in the Netherlands.\n",
    "Dona: Used for women in Spanish and Portuguese.\n",
    "Msgr: Used for monsignor in the Catholic Church."
   ]
  },
  {
   "cell_type": "code",
   "execution_count": 19,
   "id": "903457bc-a9b6-40c6-bd39-742327bb349c",
   "metadata": {},
   "outputs": [],
   "source": [
    "# Define the mapping\n",
    "title_mapping = {\n",
    "    'Mr': 'Mr',\n",
    "    'Mrs': 'Mrs',\n",
    "    'Miss': 'Miss',\n",
    "    'Master': 'Master',\n",
    "    'Dr': 'Mr',\n",
    "    'Rev': 'Mr',\n",
    "    'Col': 'Mr',\n",
    "    'Mlle': 'Miss',\n",
    "    'Ms': 'Miss',\n",
    "    'Major': 'Mr',\n",
    "    'Capt': 'Mr',\n",
    "    'Sir': 'Mr',\n",
    "    'Dona': 'Mrs',\n",
    "    'Jonkheer': 'Mr',\n",
    "    'the Countess': 'Mrs',\n",
    "    'Don': 'Mr',\n",
    "    'Mme': 'Mrs',\n",
    "    'Lady': 'Mrs'\n",
    "}"
   ]
  },
  {
   "cell_type": "code",
   "execution_count": 20,
   "id": "391f0e8b-0d1d-4e5b-91f2-29eeb426b08c",
   "metadata": {},
   "outputs": [],
   "source": [
    "# Apply the mapping\n",
    "data['courtesy_title'] = data['courtesy_title'].map(title_mapping)"
   ]
  },
  {
   "cell_type": "code",
   "execution_count": 21,
   "id": "dddff21e-482a-4d22-8b12-a7af0fd206df",
   "metadata": {},
   "outputs": [
    {
     "data": {
      "text/plain": [
       "courtesy_title\n",
       "Mr        783\n",
       "Miss      264\n",
       "Mrs       201\n",
       "Master     61\n",
       "Name: count, dtype: int64"
      ]
     },
     "execution_count": 21,
     "metadata": {},
     "output_type": "execute_result"
    }
   ],
   "source": [
    "data['courtesy_title'].value_counts()"
   ]
  },
  {
   "cell_type": "code",
   "execution_count": 22,
   "id": "b744b2c7-295a-45d3-91be-28ce2c529305",
   "metadata": {},
   "outputs": [],
   "source": [
    "# Find the mean vales of 'Age' group by 'Title'\n",
    "mean_age_by_title = data.groupby(['courtesy_title']).age.mean()"
   ]
  },
  {
   "cell_type": "code",
   "execution_count": 23,
   "id": "2ad8f240-a9a8-4570-b88c-aebcbb2f7958",
   "metadata": {},
   "outputs": [],
   "source": [
    "def fill_age(row):\n",
    "    if pd.isnull(row['age']):\n",
    "        return mean_age_by_title[row['courtesy_title']]\n",
    "    else:\n",
    "        return row['age']\n"
   ]
  },
  {
   "cell_type": "code",
   "execution_count": 25,
   "id": "cbae0375-f96c-47b3-8136-4a68d0354316",
   "metadata": {},
   "outputs": [],
   "source": [
    "data['age'] = data.apply(fill_age, axis=1)"
   ]
  },
  {
   "cell_type": "code",
   "execution_count": 26,
   "id": "03b763f6-c59b-4840-ba6b-43429dc2b0b7",
   "metadata": {},
   "outputs": [
    {
     "data": {
      "text/plain": [
       "pclass            0\n",
       "survived          0\n",
       "name              0\n",
       "sex               0\n",
       "age               0\n",
       "sibsp             0\n",
       "parch             0\n",
       "ticket            0\n",
       "fare              1\n",
       "embarked          2\n",
       "name_split        0\n",
       "courtesy_title    0\n",
       "dtype: int64"
      ]
     },
     "execution_count": 26,
     "metadata": {},
     "output_type": "execute_result"
    }
   ],
   "source": [
    "data.isnull().sum()"
   ]
  },
  {
   "cell_type": "code",
   "execution_count": 27,
   "id": "b58b0bd0-ec1e-4911-bf73-43ccfd0aafb2",
   "metadata": {},
   "outputs": [],
   "source": [
    "# Fill missing value with mode in \"embarked\"\n",
    "data['embarked'].fillna(data['embarked'].mode()[0], inplace = True)"
   ]
  },
  {
   "cell_type": "code",
   "execution_count": 28,
   "id": "882c2709-6627-46e6-9467-2ca712ed5173",
   "metadata": {},
   "outputs": [],
   "source": [
    "# Fill missing fare with median\n",
    "data['fare'].fillna(data['fare'].median(), inplace = True)"
   ]
  },
  {
   "cell_type": "code",
   "execution_count": 29,
   "id": "fe7755e4-acf6-44aa-b45f-2efb877be4f0",
   "metadata": {},
   "outputs": [
    {
     "data": {
      "text/plain": [
       "pclass            0\n",
       "survived          0\n",
       "name              0\n",
       "sex               0\n",
       "age               0\n",
       "sibsp             0\n",
       "parch             0\n",
       "ticket            0\n",
       "fare              0\n",
       "embarked          0\n",
       "name_split        0\n",
       "courtesy_title    0\n",
       "dtype: int64"
      ]
     },
     "execution_count": 29,
     "metadata": {},
     "output_type": "execute_result"
    }
   ],
   "source": [
    "data.isnull().sum()"
   ]
  },
  {
   "cell_type": "code",
   "execution_count": 30,
   "id": "9db3d577-048c-4a68-b561-10bfffea9da9",
   "metadata": {
    "scrolled": true
   },
   "outputs": [
    {
     "data": {
      "text/html": [
       "<div>\n",
       "<style scoped>\n",
       "    .dataframe tbody tr th:only-of-type {\n",
       "        vertical-align: middle;\n",
       "    }\n",
       "\n",
       "    .dataframe tbody tr th {\n",
       "        vertical-align: top;\n",
       "    }\n",
       "\n",
       "    .dataframe thead th {\n",
       "        text-align: right;\n",
       "    }\n",
       "</style>\n",
       "<table border=\"1\" class=\"dataframe\">\n",
       "  <thead>\n",
       "    <tr style=\"text-align: right;\">\n",
       "      <th></th>\n",
       "      <th>pclass</th>\n",
       "      <th>survived</th>\n",
       "      <th>name</th>\n",
       "      <th>sex</th>\n",
       "      <th>age</th>\n",
       "      <th>sibsp</th>\n",
       "      <th>parch</th>\n",
       "      <th>ticket</th>\n",
       "      <th>fare</th>\n",
       "      <th>embarked</th>\n",
       "      <th>name_split</th>\n",
       "      <th>courtesy_title</th>\n",
       "    </tr>\n",
       "  </thead>\n",
       "  <tbody>\n",
       "    <tr>\n",
       "      <th>0</th>\n",
       "      <td>1</td>\n",
       "      <td>1</td>\n",
       "      <td>Allen, Miss. Elisabeth Walton</td>\n",
       "      <td>female</td>\n",
       "      <td>29.0000</td>\n",
       "      <td>0</td>\n",
       "      <td>0</td>\n",
       "      <td>24160</td>\n",
       "      <td>211.3375</td>\n",
       "      <td>S</td>\n",
       "      <td>Miss. Elisabeth Walton</td>\n",
       "      <td>Miss</td>\n",
       "    </tr>\n",
       "    <tr>\n",
       "      <th>1</th>\n",
       "      <td>1</td>\n",
       "      <td>1</td>\n",
       "      <td>Allison, Master. Hudson Trevor</td>\n",
       "      <td>male</td>\n",
       "      <td>0.9167</td>\n",
       "      <td>1</td>\n",
       "      <td>2</td>\n",
       "      <td>113781</td>\n",
       "      <td>151.5500</td>\n",
       "      <td>S</td>\n",
       "      <td>Master. Hudson Trevor</td>\n",
       "      <td>Master</td>\n",
       "    </tr>\n",
       "    <tr>\n",
       "      <th>2</th>\n",
       "      <td>1</td>\n",
       "      <td>0</td>\n",
       "      <td>Allison, Miss. Helen Loraine</td>\n",
       "      <td>female</td>\n",
       "      <td>2.0000</td>\n",
       "      <td>1</td>\n",
       "      <td>2</td>\n",
       "      <td>113781</td>\n",
       "      <td>151.5500</td>\n",
       "      <td>S</td>\n",
       "      <td>Miss. Helen Loraine</td>\n",
       "      <td>Miss</td>\n",
       "    </tr>\n",
       "    <tr>\n",
       "      <th>3</th>\n",
       "      <td>1</td>\n",
       "      <td>0</td>\n",
       "      <td>Allison, Mr. Hudson Joshua Creighton</td>\n",
       "      <td>male</td>\n",
       "      <td>30.0000</td>\n",
       "      <td>1</td>\n",
       "      <td>2</td>\n",
       "      <td>113781</td>\n",
       "      <td>151.5500</td>\n",
       "      <td>S</td>\n",
       "      <td>Mr. Hudson Joshua Creighton</td>\n",
       "      <td>Mr</td>\n",
       "    </tr>\n",
       "    <tr>\n",
       "      <th>4</th>\n",
       "      <td>1</td>\n",
       "      <td>0</td>\n",
       "      <td>Allison, Mrs. Hudson J C (Bessie Waldo Daniels)</td>\n",
       "      <td>female</td>\n",
       "      <td>25.0000</td>\n",
       "      <td>1</td>\n",
       "      <td>2</td>\n",
       "      <td>113781</td>\n",
       "      <td>151.5500</td>\n",
       "      <td>S</td>\n",
       "      <td>Mrs. Hudson J C (Bessie Waldo Daniels)</td>\n",
       "      <td>Mrs</td>\n",
       "    </tr>\n",
       "  </tbody>\n",
       "</table>\n",
       "</div>"
      ],
      "text/plain": [
       "   pclass  survived                                             name     sex  \\\n",
       "0       1         1                    Allen, Miss. Elisabeth Walton  female   \n",
       "1       1         1                   Allison, Master. Hudson Trevor    male   \n",
       "2       1         0                     Allison, Miss. Helen Loraine  female   \n",
       "3       1         0             Allison, Mr. Hudson Joshua Creighton    male   \n",
       "4       1         0  Allison, Mrs. Hudson J C (Bessie Waldo Daniels)  female   \n",
       "\n",
       "       age  sibsp  parch  ticket      fare embarked  \\\n",
       "0  29.0000      0      0   24160  211.3375        S   \n",
       "1   0.9167      1      2  113781  151.5500        S   \n",
       "2   2.0000      1      2  113781  151.5500        S   \n",
       "3  30.0000      1      2  113781  151.5500        S   \n",
       "4  25.0000      1      2  113781  151.5500        S   \n",
       "\n",
       "                                name_split courtesy_title  \n",
       "0                   Miss. Elisabeth Walton           Miss  \n",
       "1                    Master. Hudson Trevor         Master  \n",
       "2                      Miss. Helen Loraine           Miss  \n",
       "3              Mr. Hudson Joshua Creighton             Mr  \n",
       "4   Mrs. Hudson J C (Bessie Waldo Daniels)            Mrs  "
      ]
     },
     "execution_count": 30,
     "metadata": {},
     "output_type": "execute_result"
    }
   ],
   "source": [
    "data.head()"
   ]
  },
  {
   "cell_type": "code",
   "execution_count": 31,
   "id": "f86d82f0-ccf4-41c9-a19d-c0d1be4b662b",
   "metadata": {},
   "outputs": [
    {
     "data": {
      "text/html": [
       "<div>\n",
       "<style scoped>\n",
       "    .dataframe tbody tr th:only-of-type {\n",
       "        vertical-align: middle;\n",
       "    }\n",
       "\n",
       "    .dataframe tbody tr th {\n",
       "        vertical-align: top;\n",
       "    }\n",
       "\n",
       "    .dataframe thead th {\n",
       "        text-align: right;\n",
       "    }\n",
       "</style>\n",
       "<table border=\"1\" class=\"dataframe\">\n",
       "  <thead>\n",
       "    <tr style=\"text-align: right;\">\n",
       "      <th></th>\n",
       "      <th>pclass</th>\n",
       "      <th>survived</th>\n",
       "      <th>name</th>\n",
       "      <th>sex</th>\n",
       "      <th>age</th>\n",
       "      <th>sibsp</th>\n",
       "      <th>parch</th>\n",
       "      <th>ticket</th>\n",
       "      <th>fare</th>\n",
       "      <th>embarked</th>\n",
       "      <th>name_split</th>\n",
       "      <th>courtesy_title</th>\n",
       "      <th>ageGroup</th>\n",
       "    </tr>\n",
       "  </thead>\n",
       "  <tbody>\n",
       "    <tr>\n",
       "      <th>0</th>\n",
       "      <td>1</td>\n",
       "      <td>1</td>\n",
       "      <td>Allen, Miss. Elisabeth Walton</td>\n",
       "      <td>female</td>\n",
       "      <td>29.0000</td>\n",
       "      <td>0</td>\n",
       "      <td>0</td>\n",
       "      <td>24160</td>\n",
       "      <td>211.3375</td>\n",
       "      <td>S</td>\n",
       "      <td>Miss. Elisabeth Walton</td>\n",
       "      <td>Miss</td>\n",
       "      <td>Adult</td>\n",
       "    </tr>\n",
       "    <tr>\n",
       "      <th>1</th>\n",
       "      <td>1</td>\n",
       "      <td>1</td>\n",
       "      <td>Allison, Master. Hudson Trevor</td>\n",
       "      <td>male</td>\n",
       "      <td>0.9167</td>\n",
       "      <td>1</td>\n",
       "      <td>2</td>\n",
       "      <td>113781</td>\n",
       "      <td>151.5500</td>\n",
       "      <td>S</td>\n",
       "      <td>Master. Hudson Trevor</td>\n",
       "      <td>Master</td>\n",
       "      <td>Young</td>\n",
       "    </tr>\n",
       "    <tr>\n",
       "      <th>2</th>\n",
       "      <td>1</td>\n",
       "      <td>0</td>\n",
       "      <td>Allison, Miss. Helen Loraine</td>\n",
       "      <td>female</td>\n",
       "      <td>2.0000</td>\n",
       "      <td>1</td>\n",
       "      <td>2</td>\n",
       "      <td>113781</td>\n",
       "      <td>151.5500</td>\n",
       "      <td>S</td>\n",
       "      <td>Miss. Helen Loraine</td>\n",
       "      <td>Miss</td>\n",
       "      <td>Young</td>\n",
       "    </tr>\n",
       "    <tr>\n",
       "      <th>3</th>\n",
       "      <td>1</td>\n",
       "      <td>0</td>\n",
       "      <td>Allison, Mr. Hudson Joshua Creighton</td>\n",
       "      <td>male</td>\n",
       "      <td>30.0000</td>\n",
       "      <td>1</td>\n",
       "      <td>2</td>\n",
       "      <td>113781</td>\n",
       "      <td>151.5500</td>\n",
       "      <td>S</td>\n",
       "      <td>Mr. Hudson Joshua Creighton</td>\n",
       "      <td>Mr</td>\n",
       "      <td>Adult</td>\n",
       "    </tr>\n",
       "    <tr>\n",
       "      <th>4</th>\n",
       "      <td>1</td>\n",
       "      <td>0</td>\n",
       "      <td>Allison, Mrs. Hudson J C (Bessie Waldo Daniels)</td>\n",
       "      <td>female</td>\n",
       "      <td>25.0000</td>\n",
       "      <td>1</td>\n",
       "      <td>2</td>\n",
       "      <td>113781</td>\n",
       "      <td>151.5500</td>\n",
       "      <td>S</td>\n",
       "      <td>Mrs. Hudson J C (Bessie Waldo Daniels)</td>\n",
       "      <td>Mrs</td>\n",
       "      <td>Adult</td>\n",
       "    </tr>\n",
       "  </tbody>\n",
       "</table>\n",
       "</div>"
      ],
      "text/plain": [
       "   pclass  survived                                             name     sex  \\\n",
       "0       1         1                    Allen, Miss. Elisabeth Walton  female   \n",
       "1       1         1                   Allison, Master. Hudson Trevor    male   \n",
       "2       1         0                     Allison, Miss. Helen Loraine  female   \n",
       "3       1         0             Allison, Mr. Hudson Joshua Creighton    male   \n",
       "4       1         0  Allison, Mrs. Hudson J C (Bessie Waldo Daniels)  female   \n",
       "\n",
       "       age  sibsp  parch  ticket      fare embarked  \\\n",
       "0  29.0000      0      0   24160  211.3375        S   \n",
       "1   0.9167      1      2  113781  151.5500        S   \n",
       "2   2.0000      1      2  113781  151.5500        S   \n",
       "3  30.0000      1      2  113781  151.5500        S   \n",
       "4  25.0000      1      2  113781  151.5500        S   \n",
       "\n",
       "                                name_split courtesy_title ageGroup  \n",
       "0                   Miss. Elisabeth Walton           Miss    Adult  \n",
       "1                    Master. Hudson Trevor         Master    Young  \n",
       "2                      Miss. Helen Loraine           Miss    Young  \n",
       "3              Mr. Hudson Joshua Creighton             Mr    Adult  \n",
       "4   Mrs. Hudson J C (Bessie Waldo Daniels)            Mrs    Adult  "
      ]
     },
     "execution_count": 31,
     "metadata": {},
     "output_type": "execute_result"
    }
   ],
   "source": [
    "# Create the new column 'ageGroup' using conditions\n",
    "data['ageGroup'] = 'Unknown'  # Default value\n",
    "\n",
    "data.loc[data['age'] < 18, 'ageGroup'] = 'Young'\n",
    "data.loc[(data['age'] >= 18) & (data['age'] < 40), 'ageGroup'] = 'Adult'\n",
    "data.loc[(data['age'] >= 40) & (data['age'] < 56), 'ageGroup'] = 'Middle age'\n",
    "data.loc[data['age'] >= 56, 'ageGroup'] = 'Senior'\n",
    "data.head()"
   ]
  },
  {
   "cell_type": "code",
   "execution_count": 34,
   "id": "0fb0d09b-231e-42e5-b947-dc8e6e208c70",
   "metadata": {},
   "outputs": [],
   "source": [
    "# Save the cleaned DataFrame to a CSV file\n",
    "data.to_csv('cleaned_data(task1).csv', index=True)"
   ]
  },
  {
   "cell_type": "code",
   "execution_count": 35,
   "id": "36a17065-30db-4455-b817-a8adeda65639",
   "metadata": {},
   "outputs": [
    {
     "data": {
      "text/plain": [
       "1309"
      ]
     },
     "execution_count": 35,
     "metadata": {},
     "output_type": "execute_result"
    }
   ],
   "source": [
    "# 1. Total number of Passengers\n",
    "total_passengers = data.shape[0]\n",
    "total_passengers"
   ]
  },
  {
   "cell_type": "code",
   "execution_count": 34,
   "id": "594c605d",
   "metadata": {},
   "outputs": [
    {
     "data": {
      "text/plain": [
       "survived\n",
       "0    809\n",
       "1    500\n",
       "Name: count, dtype: int64"
      ]
     },
     "execution_count": 34,
     "metadata": {},
     "output_type": "execute_result"
    }
   ],
   "source": [
    "# 2. Number of surviving Passengers\n",
    "data[\"survived\"].value_counts()"
   ]
  },
  {
   "cell_type": "code",
   "execution_count": 35,
   "id": "180abfb7",
   "metadata": {},
   "outputs": [
    {
     "name": "stdout",
     "output_type": "stream",
     "text": [
      "Number of surviving passengers: 500\n"
     ]
    }
   ],
   "source": [
    "num_survived = data[data['survived'] == 1].shape[0]\n",
    "print(f\"Number of surviving passengers: {num_survived}\")"
   ]
  },
  {
   "cell_type": "code",
   "execution_count": 57,
   "id": "be8fabc9-2248-412d-824a-0b2efe88c0e8",
   "metadata": {},
   "outputs": [
    {
     "name": "stderr",
     "output_type": "stream",
     "text": [
      "C:\\Users\\shiny\\AppData\\Local\\Temp\\ipykernel_26736\\706509437.py:10: FutureWarning: \n",
      "\n",
      "Passing `palette` without assigning `hue` is deprecated and will be removed in v0.14.0. Assign the `x` variable to `hue` and set `legend=False` for the same effect.\n",
      "\n",
      "  ax = sns.barplot(x=survived_counts.index, y=survived_counts.values, palette=['salmon', 'skyblue'])\n"
     ]
    },
    {
     "data": {
      "image/png": "[encoded data removed]",
      "text/plain": [
       "<Figure size 800x600 with 1 Axes>"
      ]
     },
     "metadata": {},
     "output_type": "display_data"
    }
   ],
   "source": [
    "import seaborn as sns\n",
    "import matplotlib.pyplot as plt\n",
    "\n",
    "# Example data\n",
    "survived_counts = data[\"survived\"].value_counts()  \n",
    "\n",
    "# Plotting\n",
    "sns.set(style=\"whitegrid\")\n",
    "plt.figure(figsize=(8, 6))\n",
    "ax = sns.barplot(x=survived_counts.index, y=survived_counts.values, palette=['salmon', 'skyblue'])\n",
    "\n",
    "# Adding values on top of the bars\n",
    "for p in ax.patches:\n",
    "    height = p.get_height()\n",
    "    ax.text(p.get_x() + p.get_width() / 2, height + 10, f'{height}', \n",
    "            ha='center', va='bottom', fontsize=12)\n",
    "\n",
    "plt.title(\"Number of Surviving Passengers\")\n",
    "plt.xlabel(\"Survived\")\n",
    "plt.ylabel(\"Count\")\n",
    "plt.xticks([0, 1], ['Not Survived', 'Survived'])\n",
    "plt.show()\n",
    "\n"
   ]
  },
  {
   "cell_type": "code",
   "execution_count": 36,
   "id": "e706c402",
   "metadata": {},
   "outputs": [
    {
     "data": {
      "text/plain": [
       "809"
      ]
     },
     "execution_count": 36,
     "metadata": {},
     "output_type": "execute_result"
    }
   ],
   "source": [
    "# 3. Number of died Passengers\n",
    "num_died = total_passengers - num_survived\n",
    "num_died"
   ]
  },
  {
   "cell_type": "code",
   "execution_count": 37,
   "id": "a0112ef3",
   "metadata": {},
   "outputs": [
    {
     "data": {
      "text/plain": [
       "np.float64(43564.9411)"
      ]
     },
     "execution_count": 37,
     "metadata": {},
     "output_type": "execute_result"
    }
   ],
   "source": [
    "# 4. Total Fare Price\n",
    "total_fare = data['fare'].sum()\n",
    "total_fare "
   ]
  },
  {
   "cell_type": "code",
   "execution_count": 38,
   "id": "a32371d0",
   "metadata": {},
   "outputs": [
    {
     "name": "stdout",
     "output_type": "stream",
     "text": [
      "Total fare in dollars: $43,564.94\n"
     ]
    }
   ],
   "source": [
    "# Convert to dollar format using f-strings\n",
    "total_fare_dollars = f\"${total_fare:,.2f}\"\n",
    "print(f\"Total fare in dollars: {total_fare_dollars}\")"
   ]
  },
  {
   "cell_type": "code",
   "execution_count": 39,
   "id": "f01bbf81",
   "metadata": {},
   "outputs": [
    {
     "data": {
      "text/plain": [
       "sex\n",
       "male      843\n",
       "female    466\n",
       "Name: count, dtype: int64"
      ]
     },
     "execution_count": 39,
     "metadata": {},
     "output_type": "execute_result"
    }
   ],
   "source": [
    "# 5. Gender based Classification\n",
    "gender_classification = data['sex'].value_counts()\n",
    "gender_classification "
   ]
  },
  {
   "cell_type": "code",
   "execution_count": 56,
   "id": "9fd67c04-b79e-49a0-9fa3-645566cbda56",
   "metadata": {},
   "outputs": [
    {
     "data": {
      "image/png": "[encoded data removed]",
      "text/plain": [
       "<Figure size 800x500 with 1 Axes>"
      ]
     },
     "metadata": {},
     "output_type": "display_data"
    }
   ],
   "source": [
    "# Example data\n",
    "gender_classification = {\n",
    "    'male': 843,\n",
    "    'female': 466\n",
    "}\n",
    "\n",
    "# Plotting\n",
    "plt.figure(figsize=(8, 5))\n",
    "bars = plt.bar(gender_classification.keys(), gender_classification.values(), color=['blue', 'pink'])\n",
    "\n",
    "# Adding values on top of the bars\n",
    "for bar in bars:\n",
    "    height = bar.get_height()\n",
    "    plt.text(bar.get_x() + bar.get_width() / 2, height + 20, f'{height}', \n",
    "             ha='center', va='bottom', fontsize=12)\n",
    "\n",
    "plt.xlabel('Gender')\n",
    "plt.ylabel('Number of Passengers')\n",
    "plt.title('Gender-Based Classification')\n",
    "plt.show()\n"
   ]
  },
  {
   "cell_type": "code",
   "execution_count": 40,
   "id": "a977f12f",
   "metadata": {},
   "outputs": [
    {
     "data": {
      "text/plain": [
       "pclass\n",
       "3    709\n",
       "1    323\n",
       "2    277\n",
       "Name: count, dtype: int64"
      ]
     },
     "execution_count": 40,
     "metadata": {},
     "output_type": "execute_result"
    }
   ],
   "source": [
    "# 6. Passenger distribution by class\n",
    "class_distribution = data['pclass'].value_counts()\n",
    "class_distribution"
   ]
  },
  {
   "cell_type": "code",
   "execution_count": 55,
   "id": "f3743117-b124-4bd4-b5b8-4e46e72e552a",
   "metadata": {},
   "outputs": [
    {
     "data": {
      "image/png": "[encoded data removed]",
      "text/plain": [
       "<Figure size 800x500 with 1 Axes>"
      ]
     },
     "metadata": {},
     "output_type": "display_data"
    }
   ],
   "source": [
    "# Example data\n",
    "class_distribution = {\n",
    "    'Class 3': 709,\n",
    "    'Class 1': 323,\n",
    "    'Class 2': 277\n",
    "}\n",
    "\n",
    "# Plotting\n",
    "plt.figure(figsize=(8, 5))\n",
    "bars = plt.bar(class_distribution.keys(), class_distribution.values(), color=['lightblue', 'lightgreen', 'lightcoral'])\n",
    "\n",
    "# Adding values on top of the bars\n",
    "for bar in bars:\n",
    "    height = bar.get_height()\n",
    "    plt.text(bar.get_x() + bar.get_width() / 2, height + 10, f'{height}', \n",
    "             ha='center', va='bottom', fontsize=12)\n",
    "\n",
    "plt.xlabel('Passenger Class')\n",
    "plt.ylabel('Number of Passengers')\n",
    "plt.title('Passenger Distribution by Class')\n",
    "plt.show()\n"
   ]
  },
  {
   "cell_type": "code",
   "execution_count": 41,
   "id": "a8ed5b25",
   "metadata": {},
   "outputs": [
    {
     "name": "stdout",
     "output_type": "stream",
     "text": [
      "38.19709702062643\n",
      "61.80290297937356\n"
     ]
    }
   ],
   "source": [
    "# 7. Survival & Mortality percentage\n",
    "survival_percentage = (num_survived / total_passengers) * 100\n",
    "mortality_percentage = (num_died / total_passengers) * 100\n",
    "print(survival_percentage)\n",
    "print(mortality_percentage)"
   ]
  },
  {
   "cell_type": "code",
   "execution_count": 42,
   "id": "7eaf32ef",
   "metadata": {},
   "outputs": [
    {
     "name": "stdout",
     "output_type": "stream",
     "text": [
      "Formatted value for survival persentage: 38.20\n",
      "Formatted value for mortality_percentage: 61.80\n"
     ]
    }
   ],
   "source": [
    "formatted_value1 = f\"{survival_percentage:.2f}\"\n",
    "print(f\"Formatted value for survival persentage: {formatted_value1}\")\n",
    "formatted_value2 = f\"{mortality_percentage:.2f}\"\n",
    "print(f\"Formatted value for mortality_percentage: {formatted_value2}\")\n"
   ]
  },
  {
   "cell_type": "code",
   "execution_count": 51,
   "id": "67648d5e-bff5-4bad-8825-03e474df1fb6",
   "metadata": {},
   "outputs": [
    {
     "data": {
      "image/png": "[encoded data removed]",
      "text/plain": [
       "<Figure size 700x700 with 1 Axes>"
      ]
     },
     "metadata": {},
     "output_type": "display_data"
    }
   ],
   "source": [
    "# Example data\n",
    "survival_percentage = 38.20\n",
    "mortality_percentage = 61.80\n",
    "\n",
    "# Data for the pie chart\n",
    "labels = ['Survived', 'Died']\n",
    "sizes = [survival_percentage, mortality_percentage]\n",
    "colors = ['lightgreen', 'lightcoral']\n",
    "\n",
    "# Plotting\n",
    "plt.figure(figsize=(7, 7))\n",
    "plt.pie(sizes, labels=labels, autopct='%1.1f%%', colors=colors, startangle=140, wedgeprops=dict(width=0.4))\n",
    "plt.title('Survival & Mortality Percentage')\n",
    "plt.show()\n"
   ]
  },
  {
   "cell_type": "code",
   "execution_count": 43,
   "id": "52ce655d",
   "metadata": {},
   "outputs": [
    {
     "name": "stdout",
     "output_type": "stream",
     "text": [
      "sex\n",
      "female    339\n",
      "male      161\n",
      "Name: survived, dtype: int64\n"
     ]
    }
   ],
   "source": [
    "#8. Group by gender and count the number of survivors\n",
    "survival_by_gender = data[data['survived'] == 1].groupby('sex')['survived'].count()\n",
    "\n",
    "print(survival_by_gender)"
   ]
  },
  {
   "cell_type": "code",
   "execution_count": 54,
   "id": "9a049758-a273-4783-9c7e-4364066aa565",
   "metadata": {},
   "outputs": [
    {
     "data": {
      "image/png": "[encoded data removed]",
      "text/plain": [
       "<Figure size 800x500 with 1 Axes>"
      ]
     },
     "metadata": {},
     "output_type": "display_data"
    }
   ],
   "source": [
    "# Example data\n",
    "survival_by_gender = {\n",
    "    'female': 339,\n",
    "    'male': 161\n",
    "}\n",
    "\n",
    "# Plotting\n",
    "plt.figure(figsize=(8, 5))\n",
    "bars = plt.bar(survival_by_gender.keys(), survival_by_gender.values(), color=['pink', 'blue'])\n",
    "\n",
    "# Adding values on top of the bars\n",
    "for bar in bars:\n",
    "    height = bar.get_height()\n",
    "    plt.text(bar.get_x() + bar.get_width() / 2, height + 5, f'{height}', \n",
    "             ha='center', va='bottom', fontsize=12)\n",
    "\n",
    "plt.xlabel('Gender')\n",
    "plt.ylabel('Number of Survivors')\n",
    "plt.title('Number of Survivors by Gender')\n",
    "plt.show()\n"
   ]
  },
  {
   "cell_type": "code",
   "execution_count": 44,
   "id": "a57b3c42",
   "metadata": {},
   "outputs": [
    {
     "name": "stdout",
     "output_type": "stream",
     "text": [
      "sex\n",
      "female    127\n",
      "male      682\n",
      "Name: survived, dtype: int64\n"
     ]
    }
   ],
   "source": [
    "9.# Group by gender and count the number of mortalities\n",
    "mortality_by_gender = data[data['survived'] == 0].groupby('sex')['survived'].count()\n",
    "\n",
    "print(mortality_by_gender)"
   ]
  },
  {
   "cell_type": "code",
   "execution_count": 58,
   "id": "7b9aa950-c31f-48b8-94ae-b4abcc9c4ab8",
   "metadata": {},
   "outputs": [
    {
     "name": "stderr",
     "output_type": "stream",
     "text": [
      "C:\\Users\\shiny\\AppData\\Local\\Temp\\ipykernel_26736\\3532454729.py:10: FutureWarning: \n",
      "\n",
      "Passing `palette` without assigning `hue` is deprecated and will be removed in v0.14.0. Assign the `x` variable to `hue` and set `legend=False` for the same effect.\n",
      "\n",
      "  ax = sns.barplot(x=list(mortality_by_gender.keys()), y=list(mortality_by_gender.values()), palette=['pink', 'blue'])\n"
     ]
    },
    {
     "data": {
      "image/png": "[encoded data removed]",
      "text/plain": [
       "<Figure size 800x500 with 1 Axes>"
      ]
     },
     "metadata": {},
     "output_type": "display_data"
    }
   ],
   "source": [
    "# Example data\n",
    "mortality_by_gender = {\n",
    "    'female': 127,\n",
    "    'male': 682\n",
    "}\n",
    "\n",
    "# Plotting\n",
    "sns.set(style=\"whitegrid\")\n",
    "plt.figure(figsize=(8, 5))\n",
    "ax = sns.barplot(x=list(mortality_by_gender.keys()), y=list(mortality_by_gender.values()), palette=['pink', 'blue'])\n",
    "\n",
    "# Adding values on top of the bars\n",
    "for p in ax.patches:\n",
    "    height = p.get_height()\n",
    "    ax.text(p.get_x() + p.get_width() / 2, height + 10, f'{height}', \n",
    "            ha='center', va='bottom', fontsize=12)\n",
    "\n",
    "plt.xlabel('Gender')\n",
    "plt.ylabel('Number of Mortalities')\n",
    "plt.title('Number of Mortalities by Gender')\n",
    "plt.show()\n"
   ]
  },
  {
   "cell_type": "code",
   "execution_count": 61,
   "id": "461c591a",
   "metadata": {},
   "outputs": [
    {
     "name": "stderr",
     "output_type": "stream",
     "text": [
      "C:\\Users\\shiny\\AppData\\Local\\Temp\\ipykernel_26736\\179654149.py:4: SettingWithCopyWarning: \n",
      "A value is trying to be set on a copy of a slice from a DataFrame\n",
      "\n",
      "See the caveats in the documentation: https://pandas.pydata.org/pandas-docs/stable/user_guide/indexing.html#returning-a-view-versus-a-copy\n",
      "  data['ageGroup'].loc[(data['age'] < 18)] = 'Young'\n",
      "C:\\Users\\shiny\\AppData\\Local\\Temp\\ipykernel_26736\\179654149.py:5: SettingWithCopyWarning: \n",
      "A value is trying to be set on a copy of a slice from a DataFrame\n",
      "\n",
      "See the caveats in the documentation: https://pandas.pydata.org/pandas-docs/stable/user_guide/indexing.html#returning-a-view-versus-a-copy\n",
      "  data['ageGroup'].loc[(data['age'] >= 18) & (data['age'] < 40)] = 'Adult'\n",
      "C:\\Users\\shiny\\AppData\\Local\\Temp\\ipykernel_26736\\179654149.py:6: SettingWithCopyWarning: \n",
      "A value is trying to be set on a copy of a slice from a DataFrame\n",
      "\n",
      "See the caveats in the documentation: https://pandas.pydata.org/pandas-docs/stable/user_guide/indexing.html#returning-a-view-versus-a-copy\n",
      "  data['ageGroup'].loc[(data['age'] >= 40) & (data['age'] < 56)] = 'Middle age'\n",
      "C:\\Users\\shiny\\AppData\\Local\\Temp\\ipykernel_26736\\179654149.py:7: SettingWithCopyWarning: \n",
      "A value is trying to be set on a copy of a slice from a DataFrame\n",
      "\n",
      "See the caveats in the documentation: https://pandas.pydata.org/pandas-docs/stable/user_guide/indexing.html#returning-a-view-versus-a-copy\n",
      "  data['ageGroup'].loc[(data['age'] >= 56)] = 'Senior'\n"
     ]
    }
   ],
   "source": [
    "# 10. Passenger Distribution based on Age Group\n",
    "# Creating a Categorical variable for Ages\n",
    "\n",
    "data['ageGroup'].loc[(data['age'] < 18)] = 'Young'\n",
    "data['ageGroup'].loc[(data['age'] >= 18) & (data['age'] < 40)] = 'Adult'\n",
    "data['ageGroup'].loc[(data['age'] >= 40) & (data['age'] < 56)] = 'Middle age'\n",
    "data['ageGroup'].loc[(data['age'] >= 56)] = 'Senior'"
   ]
  },
  {
   "cell_type": "code",
   "execution_count": 46,
   "id": "62881479",
   "metadata": {},
   "outputs": [
    {
     "name": "stdout",
     "output_type": "stream",
     "text": [
      "     ageGroup  Count\n",
      "0       Adult    902\n",
      "1  Middle age    187\n",
      "2       Young    162\n",
      "3      Senior     58\n"
     ]
    }
   ],
   "source": [
    "# 10. Passenger Distribution based on Age Group\n",
    "# Count the number of passengers in each AgeGroup and reset index\n",
    "passenger_distribution_by_age_group = data['ageGroup'].value_counts().reset_index()\n",
    "\n",
    "# Rename columns\n",
    "passenger_distribution_by_age_group.columns = ['ageGroup', 'Count']\n",
    "\n",
    "print(passenger_distribution_by_age_group)"
   ]
  },
  {
   "cell_type": "code",
   "execution_count": 62,
   "id": "1ca6148d",
   "metadata": {},
   "outputs": [
    {
     "name": "stderr",
     "output_type": "stream",
     "text": [
      "C:\\Users\\shiny\\AppData\\Local\\Temp\\ipykernel_26736\\2186760085.py:15: FutureWarning: \n",
      "\n",
      "Passing `palette` without assigning `hue` is deprecated and will be removed in v0.14.0. Assign the `x` variable to `hue` and set `legend=False` for the same effect.\n",
      "\n",
      "  ax = sns.barplot(x='ageGroup', y='Count', data=df_age_distribution, palette='viridis')\n"
     ]
    },
    {
     "data": {
      "image/png": "[encoded data removed]",
      "text/plain": [
       "<Figure size 1000x600 with 1 Axes>"
      ]
     },
     "metadata": {},
     "output_type": "display_data"
    }
   ],
   "source": [
    "passenger_distribution_by_age_group = {\n",
    "    'Adult': 902,\n",
    "    'Middle age': 187,\n",
    "    'Young': 162,\n",
    "    'Senior': 58\n",
    "}\n",
    "\n",
    "# Convert to DataFrame for plotting\n",
    "import pandas as pd\n",
    "df_age_distribution = pd.DataFrame(list(passenger_distribution_by_age_group.items()), columns=['ageGroup', 'Count'])\n",
    "\n",
    "# Plotting\n",
    "sns.set(style=\"whitegrid\")\n",
    "plt.figure(figsize=(10, 6))\n",
    "ax = sns.barplot(x='ageGroup', y='Count', data=df_age_distribution, palette='viridis')\n",
    "\n",
    "# Adding values on top of the bars\n",
    "for p in ax.patches:\n",
    "    height = p.get_height()\n",
    "    ax.text(p.get_x() + p.get_width() / 2, height + 10, f'{height}', \n",
    "            ha='center', va='bottom', fontsize=12)\n",
    "\n",
    "plt.xlabel('Age Group')\n",
    "plt.ylabel('Number of Passengers')\n",
    "plt.title('Passenger Distribution by Age Group')\n",
    "plt.show()\n"
   ]
  }
 ],
 "metadata": {
  "kernelspec": {
   "display_name": "Python 3 (ipykernel)",
   "language": "python",
   "name": "python3"
  },
  "language_info": {
   "codemirror_mode": {
    "name": "ipython",
    "version": 3
   },
   "file_extension": ".py",
   "mimetype": "text/x-python",
   "name": "python",
   "nbconvert_exporter": "python",
   "pygments_lexer": "ipython3",
   "version": "3.8.10"
  }
 },
 "nbformat": 4,
 "nbformat_minor": 5
}
